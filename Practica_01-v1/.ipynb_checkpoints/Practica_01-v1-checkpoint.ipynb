{
 "cells": [
  {
   "cell_type": "markdown",
   "metadata": {},
   "source": [
    "![title](../img/cover.png)"
   ]
  },
  {
   "cell_type": "markdown",
   "metadata": {
    "collapsed": true
   },
   "source": [
    "# Objetivo\n",
    "En esta práctica aprenderas a visualizar datos sísmicos así como remover la respuesta del instrumento."
   ]
  },
  {
   "cell_type": "markdown",
   "metadata": {},
   "source": [
    "# Parte 1\n",
    "Antes de empezar cualquier programa es necesario importar las librerias que va a necesitar. En este caso haremos uso de dos librerias muy comunes que son **`numpy`**, **`matplotlib`**. y **`obspy`**. Cada una de estas librerias tienen las siguientes funcionalidades:\n",
    "- **`numpy`** - Numpy es una libreria de python que permite la manipulación de arreglos y matrices. \n",
    "- **`matplotlib`** - Está librería permite la creación de gráficos en 2D y 3D. \n",
    "- **`obspy`** - Obspy es un conjunto de librerías muy utilizadas en sismológia. Vamos a usar frecuentemente está librería durante el curso.\n"
   ]
  },
  {
   "cell_type": "code",
   "execution_count": null,
   "metadata": {
    "collapsed": true
   },
   "outputs": [],
   "source": [
    "import numpy as np\n",
    "import matplotlib.pyplot as plt\n",
    "import obspy \n",
    "from obspy.io.sac import attach_paz\n",
    "%matplotlib notebook\n",
    "obspy.__version__"
   ]
  },
  {
   "cell_type": "markdown",
   "metadata": {},
   "source": [
    "En esta sección vamos a reproducir la gráfica de la Figura 11.2 del libro **Introduction to Seismology, Peter Shearer**, en la que se muestra la respuesta en frecuencia del un sismómetro simple compuesto de un sistema masa-resorte-amortiguador.  \n",
    "![Sismometro simple](./img/Figura11.2.png)\n",
    "Como se muestra en el libro de texto, la respuesta al instrumento es,\n",
    "$$\n",
    "\\begin{equation}\n",
    "H(\\omega)=\\frac{Z(\\omega)}{U(\\omega)}=\\frac{\\omega^2}{\\omega^2_0-2\\epsilon i\\omega-\\omega^2}U(\\omega)\n",
    "\\end{equation}\n",
    "$$\n",
    "Donde $\\omega=2\\pi f$, $i=\\sqrt{-1}$ y $2\\epsilon=D/m$. $m$ corresponde a la masa y $D$ es la constante de amortiguación. Para reproducir está figura vamos a definir la constante $h=\\epsilon/\\omega_0$, cuando $h=1$ ($\\epsilon=\\omega_0$).\n",
    "## Pasos:\n",
    "0. Creo una lista con los valores de $h$ para los cuales deseamos obtener la gráfica (h=(1/4,1/2,1,2,4))\n",
    "1. Crea un vector de frecuencia en un rango similar al mostrado en la figura, en este caso las frecuencias vam de 0.01 a 10Hz. **Nota:** La gráfica está en escala logaritmica en $X$.  <br>\n",
    "**Tip1:** Revisa la documentación de la función <a href=\"https://numpy.org/doc/stable/reference/generated/numpy.logspace.html\">numpy.logspace</a>  (debido a que inicializamos la librería como \"\"`import numpy as np`\"\", ésta función se transforma en \"\"`np.logspace`\"\"). <br>\n",
    "**Tip2:** Utiliza al menos 100 puntos (**N=100**) y asigna el argumento **`endpoint=True`** <br>\n",
    "3. Calcula $\\omega=2*pi*f$.\n",
    "4. Evalúa la función $H(\\omega)$. **Tip** Utiliza doble asterisco $**$ para elevar al cuadrado y **1j** para representar el número imaginario **i**."
   ]
  },
  {
   "cell_type": "code",
   "execution_count": null,
   "metadata": {
    "collapsed": true
   },
   "outputs": [],
   "source": [
    "# Escribe tu código aquí. ~ 3 líneas\n",
    "h_lista = [1/4, 1/2, 1, 2, 4]\n",
    "f       = None\n",
    "omega   = None\n",
    "w0      = None\n",
    "H       = {}\n",
    "\n",
    "\n",
    "# Escribe tu código aquí. ~ 2 líneas\n",
    "for h in h_lista:\n",
    "    epsilon = None\n",
    "    H[h]    = None\n",
    "\n"
   ]
  },
  {
   "cell_type": "markdown",
   "metadata": {},
   "source": [
    "## Graficación\n",
    "Debido a que $H(\\omega)$ es una función compleja no es posible graficarla de forma convenciónal. Para poder gráficarla es necesario calcular la amplitud y la fase de la siguiente forma,\n",
    "* **Amplitud**\n",
    "$$\n",
    "\\begin{equation}\n",
    "\\|H(\\omega )\\|=\\sqrt{\\text{real}\\{{H(\\omega )\\}^2} + \\text{imag}\\{{H(\\omega )\\}^2} } \n",
    "\\end{equation}\n",
    "$$\n",
    "* **Fase**\n",
    "$$\n",
    "\\begin{equation}\n",
    "\\angle H(\\omega )=\\arctan{\\frac{\\text{imag}\\{{H(\\omega )\\}^2}}{\\text{real}\\{{H(\\omega )\\}^2}} }\n",
    "\\end{equation}\n",
    "$$\n",
    "**Tip1:** En este paso puedes calcular la amplitud y la fase utilizando estas ecuaciones o puedes utilizar funciones de numpy como <a href=\"https://numpy.org/doc/stable/reference/generated/numpy.angle.html\">**numpy.angle**</a> y <a href=\"https://numpy.org/doc/stable/reference/generated/numpy.absolute.html\">**numpy.abs**</a>. <br>\n",
    "**Tip2:** Calcula el ángulo en grados, por default la función **numpy.angle** es radianes pero puede ser cambiado a grados."
   ]
  },
  {
   "cell_type": "code",
   "execution_count": null,
   "metadata": {
    "collapsed": true
   },
   "outputs": [],
   "source": [
    "fig = plt.figure(figsize=(9,4))\n",
    "ax1 = fig.add_subplot(121)\n",
    "ax2 = fig.add_subplot(122)\n",
    "ax1.set(xlabel='Frecuencia [Hz]', ylabel='Amplitud')\n",
    "ax2.set(xlabel='Frecuencia [Hz]', ylabel='Fase')\n",
    "for h_aux, H_plot in H.items():\n",
    "    H_ampl = np.abs(H_plot)\n",
    "    H_fase = np.angle(H_plot, deg=True)\n",
    "    ax1.semilogx(f,H_ampl)\n",
    "    ax2.semilogx(f,H_fase)\n",
    "ax1.grid()\n",
    "ax2.grid()\n",
    "plt.show()"
   ]
  },
  {
   "cell_type": "markdown",
   "metadata": {},
   "source": [
    "# Parte 2\n",
    "En esta sección vamos a remover la respuesta al instrumento para el sismo M7.2 del 19 de septiembre del 2019 en Puebla-Morelos. Existen varios formatos en los que se almaenan los datos sísmicos, algunos de los más comúnes son,\n",
    "- **SAC** Seismic Analysis Code. Este es el que vamos a utilizar en este ejericicio. <a =href=\"https://ds.iris.edu/files/sac-manual/manual/file_format.html\">website</a> \n",
    "- **SEED** Standard for the Exchange of Earthquake Data. Este formato tiene varias varias variantes como miniSEED and Dataless-SEED. <a href=\"https://ds.iris.edu/ds/nodes/dmc/data/formats/seed/\">website</a>.\n",
    "- **SEG** Society of Exploration Geophysics. Este formato es comunmente utilizado por la industría petrolera y en equipos de exploración geofísica. <a href=\"https://en.wikipedia.org/wiki/SEG-Y\">website</a>\n",
    "\n",
    "La librería **`Obspy`** es capaz de leer cualquiera de estos formatos. En la página de Moodle encontrarás un archivo que corresponde a 24h de datos del día 19 de septiembre de 2017 para la estación OXIG. Revisa la página del <a href=\"http://www.ssn.unam.mx/acerca-de/estaciones/\">Servicio Sismológico Nacional</a>, para conocer su ubicación exacta. Además encontrarás el archivo de polos y zeros correspondiente a esta estación.\n",
    "## Pasos:\n",
    "1. Lee el archivo en la variable **`sismo`** utilizando la función <a =href=\"https://docs.obspy.org/packages/autogen/obspy.core.stream.read.html\">obspy.read</a>. Esta función crea una variable de tipo **`Stream`** que es un tipo de datos propio de obspy. En sismología cada estación tiene típicamente 3 canales (vertical, Norte-Sur y Este-Oeste), que en **`Obspy`** se conoce como **`Trace`**. Es decir, un **`Stream`** tiene múltiples canales. Entonces, cada **`Stream`** puede tener 1 o más **`Trace`**. En sísmica de exploración, un **`Stream`** puede contener hasta miles de **`Trace`** que corresponde a cada uno de los geofónos. Para extraer la primera traza uiliza se pude hacer como se muestra en el ejemplo. <br><br>\n",
    "**Ejemplo**\n",
    "<code>\n",
    "datos_sismicos = obspy.read('nombre_del_archivo')\n",
    "traza1 = datos_sismicos[0]\n",
    "traza2 = datos_sismicos[1]\n",
    "...\n",
    "trazaN = datos_sismicos[N-1]\n",
    "</code>\n",
    "2. Ahora puedes visualizar los datos de una forma muy sencilla utilizando funciones propias de **`Obspy`**. Revisa la documentación de la función <a href=\"https://docs.obspy.org/tutorial/code_snippets/waveform_plotting_tutorial.html\">obspy.plot</a>. En este paso utiliza la función **`obspy.plot()`** sin argumentos, y posteriomente selecciona la opción **`type='dayplot'`**. Remplaza **`None`** por los comandos correspondientes. \n",
    "<br><br>\n",
    "**Nota** En sismología se utiliza por convección el tiempo del meridiano de Greenwich. Para obtener el tiempo del centro de México, deberás de **restar** 6 horas durantes los meses de horario de invierno y 5 horas durantes los meses de horario de verano."
   ]
  },
  {
   "cell_type": "code",
   "execution_count": null,
   "metadata": {
    "collapsed": true
   },
   "outputs": [],
   "source": [
    "%matplotlib inline\n",
    "sismo = None \n",
    "sismo[0].plot()\n",
    "sismo[0].plot(type='dayplot')"
   ]
  },
  {
   "cell_type": "markdown",
   "metadata": {},
   "source": [
    "# Parte 3\n",
    "Ahora vamos a recortar el registro de tal forma que únicamente visualizemos el sismo principal (_mainshock_), el cual se registro a las 18:14:39 (Tiempo UTC) del 19 de septiembre del 2017. Posteriormente vamos a obtener el registro de velocidad aplicando la función de transferencia de esta estación. \n",
    "## Pasos:\n",
    "1. Utiliza la función <a href=\"https://docs.obspy.org/tutorial/code_snippets/seismometer_correction_simulation.html\">UTCDateTime</a> para establecer el tiempo de inicio del sismos. \n",
    "2. Utiliza la función <a href=\"https://docs.obspy.org/packages/autogen/obspy.core.stream.Stream.trim.html\">obspy.trim</a> para recortar 300s de datos a partir de la hora de inicio. Guarda esta variable como **t1**."
   ]
  },
  {
   "cell_type": "code",
   "execution_count": null,
   "metadata": {
    "collapsed": true
   },
   "outputs": [],
   "source": [
    "%matplotlib notebook\n",
    "# Escribe tú código aquí ~3 líneas\n",
    "t0 = None\n",
    "t1 = None\n",
    "None\n",
    "None"
   ]
  },
  {
   "cell_type": "code",
   "execution_count": null,
   "metadata": {
    "collapsed": true
   },
   "outputs": [],
   "source": [
    "%matplotlib inline\n",
    "pre_filt = [0.01, 0.05, 8, 10]\n",
    "inv = obspy.read_inventory('./OXIG.RESP')\n",
    "sismo.remove_response(inventory=inv, output=\"VEL\",zero_mean=True, plot=True, taper=True)"
   ]
  },
  {
   "cell_type": "code",
   "execution_count": null,
   "metadata": {
    "collapsed": true
   },
   "outputs": [],
   "source": []
  }
 ],
 "metadata": {
  "kernelspec": {
   "display_name": "Python 3",
   "language": "python",
   "name": "python3"
  },
  "language_info": {
   "codemirror_mode": {
    "name": "ipython",
    "version": 3
   },
   "file_extension": ".py",
   "mimetype": "text/x-python",
   "name": "python",
   "nbconvert_exporter": "python",
   "pygments_lexer": "ipython3",
   "version": "3.6.7"
  }
 },
 "nbformat": 4,
 "nbformat_minor": 2
}
