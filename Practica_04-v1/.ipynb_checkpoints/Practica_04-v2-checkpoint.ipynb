{
 "cells": [
  {
   "cell_type": "markdown",
   "metadata": {},
   "source": [
    "![title](./cover.png)"
   ]
  },
  {
   "cell_type": "code",
   "execution_count": null,
   "metadata": {},
   "outputs": [],
   "source": [
    "#import shapefile as shp\n",
    "import matplotlib.pyplot as plt\n",
    "from  obspy import read\n",
    "import numpy as np\n",
    "import geopy\n",
    "import folium\n",
    "import geopy.distance\n",
    "%matplotlib notebook"
   ]
  },
  {
   "cell_type": "markdown",
   "metadata": {},
   "source": [
    "# Mision\n",
    "En esta práctica vamos a localizar un sismo ocurrido en el Golfo de California, utilizando el método de polarización de onda. Teoricamente, es posible licalizar un sismo utilizando con una sola estación y sus tres componentes. \n",
    "# Parte 1\n",
    "El Servicio Sismológico Nacional cuenta con una red de estaciones que permiten el monitoreo en tiempo real de los sismos que ocurren en el pais. El 22 de mayo del 2020, reportaron un sismo de magnitud M6.2, ocurrido al sur del Golfo de California. En está práctica vamos a analizar los registros sísmicos de 3 estaciones ubicadas en: (1) Chamela, Jalísco, (2) Mazatlán, Sinaloa y (3) en La Paz, Baja California Sur. Los códigos de estación de estos sensores es **CJIG**, **MAIG**, **LPIG**. \n",
    "# Localización del sismo y las estaciones\n",
    "1. Utiliza el catalogo del Servicio Sismológico Nacional (http://www2.ssn.unam.mx:8080/catalogo/) y busca en el catálogo los datos de este sismo. Guarda la localización del sismo en las siguientes variables.\n",
    "    - Latitud. **evla**\n",
    "    - Longitud. **evlo**\n",
    "    - Profundidad. **Depth** <br><br>\n",
    "2. Consulta el mapa de estaciones (http://www.ssn.unam.mx/acerca-de/estaciones/) y determina la localización de cada una de las estaciones. Guarda el valor en la siguientes variable.\n",
    "    - (Estación)_lat. Latitud.\n",
    "    - (Estación)_lon. Longitud. <br>\n",
    "    \n",
    " "
   ]
  },
  {
   "cell_type": "code",
   "execution_count": null,
   "metadata": {},
   "outputs": [],
   "source": [
    "#\n",
    "\n",
    "evla  = None\n",
    "evlo  = None\n",
    "depth = None\n",
    "\n",
    "CJIG_lat = None\n",
    "CJIG_lon = None\n",
    "\n",
    "LPIG_lat = None\n",
    "LPIG_lon = None\n",
    "\n",
    "MAIG_lat = None\n",
    "MAIG_lon = None\n",
    "\n",
    "m = folium.Map(location=[22.5, -108.],zoom_start=6.0,)\n",
    "folium.CircleMarker(location=[evla, evlo],radius=10,fill=True,fill_color='#3186cc').add_to(m)\n",
    "folium.Marker(location=[CJIG_lat, CJIG_lon],radius=10,icon=folium.Icon(color=\"green\"), popup='CJIG').add_to(m)\n",
    "folium.Marker(location=[LPIG_lat, LPIG_lon],radius=10,icon=folium.Icon(color=\"red\"),   popup='LPIG').add_to(m)\n",
    "folium.Marker(location=[MAIG_lat, MAIG_lon],radius=10,icon=folium.Icon(color=\"blue\"),  popup='MAIG').add_to(m)\n",
    "\n",
    "m\n"
   ]
  },
  {
   "cell_type": "markdown",
   "metadata": {},
   "source": [
    "# Solución \n",
    "Tu mapa tiene que ser semejante al que se muestra en la siguiente figura. El círculo azul muestra la localización del sismo. <br><br>\n",
    "<img src='./mapa.png' width=\"500\">\n",
    "\n",
    "# Selección de la onda P y la onda S.\n",
    "La siguientes celdas las tendrás que ejecutar de forma iterativa. Para cada estación selecciona la llegada de la onda P y la onda S. Para ello una vez que ejecutes tu celda deberás de inferir graficamente los tiempos de arribo, utilizando tuu cursor y leyendo el número que aparece en la esquina inferior derecha. Te recomiendo modificar la variable **zoom** para modificar el límite superior y sea más fácil de visualizar. "
   ]
  },
  {
   "cell_type": "code",
   "execution_count": null,
   "metadata": {},
   "outputs": [],
   "source": [
    "f1=plt.figure(figsize=(6,4))\n",
    "\n",
    "# Editar ~3 líneas\n",
    "P1   = 60\n",
    "S1   = 120\n",
    "zoom = 300 # Opcional\n",
    "\n",
    "CJIG  = read('20200522084606.IG.CJIG.HHZ.sac')\n",
    "CJIG += read('20200522084606.IG.CJIG.HHN.sac')\n",
    "CJIG += read('20200522084606.IG.CJIG.HHE.sac')\n",
    "ax=CJIG.plot(type='relative', linewidth=0.5, grid_linestyle='-',\n",
    "             fig=f1, handle=True,  endtime=CJIG[0].stats.starttime + zoom);\n",
    "df    = CJIG[0].stats.sampling_rate\n",
    "\n",
    "ax1, ax2, ax3=ax.get_axes()\n",
    "ax1.plot(P1,0,'g|',markersize=20, lw=2)\n",
    "ax2.plot(P1,0,'g|',markersize=20, lw=2)\n",
    "ax3.plot(P1,0,'g|',markersize=20, lw=2)\n",
    "ax1.set_title('Chamela, Jalisco')\n",
    "\n",
    "ax1.plot(S1,0,'r+',markersize=20, lw=2)\n",
    "ax2.plot(S1,0,'r+',markersize=20, lw=2)\n",
    "ax3.plot(S1,0,'r+',markersize=20, lw=2)\n"
   ]
  },
  {
   "cell_type": "code",
   "execution_count": null,
   "metadata": {},
   "outputs": [],
   "source": [
    "f1=plt.figure(figsize=(6,5))\n",
    "\n",
    "# Editar ~3 líneas\n",
    "P2 = None\n",
    "S2 = None\n",
    "zoom = 70\n",
    "\n",
    "MAIG  = read('20200522084606.IG.MAIG.HHZ.sac')\n",
    "MAIG += read('20200522084606.IG.MAIG.HHN.sac')\n",
    "MAIG += read('20200522084606.IG.MAIG.HHE.sac')\n",
    "ax=MAIG.plot(type='relative', linewidth=0.5, grid_linestyle='-', \n",
    "             fig=f1, handle=True, endtime=CJIG[0].stats.starttime + zoom);\n",
    "df    = MAIG[0].stats.sampling_rate\n",
    "\n",
    "ax1, ax2, ax3=ax.get_axes()\n",
    "ax1.plot(P2,0,'g|',markersize=20, lw=2)\n",
    "ax2.plot(P2,0,'g|',markersize=20, lw=2)\n",
    "ax3.plot(P2,0,'g|',markersize=20, lw=2)\n",
    "ax1.set_title('Mazatlán, Sinaloa')\n",
    "\n",
    "\n",
    "ax1.plot(S2,0,'r+',markersize=20, lw=2)\n",
    "ax2.plot(S2,0,'r+',markersize=20, lw=2)\n",
    "ax3.plot(S2,0,'r+',markersize=20, lw=2)\n"
   ]
  },
  {
   "cell_type": "code",
   "execution_count": null,
   "metadata": {},
   "outputs": [],
   "source": [
    "f1=plt.figure(figsize=(6,4))\n",
    "\n",
    "# Editar ~3 líneas\n",
    "P3 = None\n",
    "S3 = None\n",
    "zoom = 300\n",
    "\n",
    "LPIG  = read('20200522084606.IG.LPIG.HHZ.sac')\n",
    "LPIG += read('20200522084606.IG.LPIG.HHN.sac')\n",
    "LPIG += read('20200522084606.IG.LPIG.HHE.sac')\n",
    "ax=LPIG.plot(type='relative', linewidth=0.5, grid_linestyle='-',\n",
    "             fig=f1, handle=True, endtime=CJIG[0].stats.starttime + zoom);\n",
    "df    = CJIG[0].stats.sampling_rate\n",
    "\n",
    "ax1, ax2, ax3=ax.get_axes()\n",
    "ax1.plot(P3,0,'g|',markersize=20, lw=2)\n",
    "ax2.plot(P3,0,'g|',markersize=20, lw=2)\n",
    "ax3.plot(P3,0,'g|',markersize=20, lw=2)\n",
    "ax1.set_title('La Paz, Baja California')\n",
    "\n",
    "\n",
    "ax1.plot(S3,0,'r+',markersize=20, lw=2)\n",
    "ax2.plot(S3,0,'r+',markersize=20, lw=2)\n",
    "ax3.plot(S3,0,'r+',markersize=20, lw=2)"
   ]
  },
  {
   "cell_type": "markdown",
   "metadata": {},
   "source": [
    "# Polarización de la onda y movimiento de la partícula\n",
    "A continuación vamos a tomar un pequeña ventana de tiempo después de la llegada de la **onda P** con duración de *t* segundos. Dependiendo de la distancia al sismo la duración puede variar de una fracción de segundo para sismos muy cercanos a unos cuantos segundos para sismos regionales. En nuestro caso, 2-3 segundos es un tiempo suficiente para determinar la polarización de la onda. Prueba diferentes ventanas de tiempo que te permitan obtener una polarización de la onda cercana a una línea recta. "
   ]
  },
  {
   "cell_type": "code",
   "execution_count": null,
   "metadata": {},
   "outputs": [],
   "source": [
    "\n",
    "# Escribe tu código aquí. ~1 línea\n",
    "win_t     = None\n",
    "win       = int(win_t*df)\n",
    "P1_sample = int(P1*df)\n",
    "Norte1 = CJIG[1].data[P1_sample:P1_sample + win]\n",
    "Este1  = CJIG[2].data[P1_sample:P1_sample + win]\n",
    "print('L: ',len(Norte1))\n",
    "f1=plt.figure(figsize=(6,5))\n",
    "plt.plot(Este1, Norte1)\n",
    "plt.gca().set_aspect('equal', adjustable='box')\n",
    "plt.grid()\n",
    "plt.xlabel('Este')\n",
    "plt.ylabel('Norte')\n",
    "plt.title('Chamela, Jalisco')\n",
    "print(P1)"
   ]
  },
  {
   "cell_type": "code",
   "execution_count": null,
   "metadata": {},
   "outputs": [],
   "source": [
    "# Escribe tu código aquí. ~1 línea\n",
    "win_t     = None\n",
    "P2_sample = int(P2*df)\n",
    "win       = int(win_t*df)\n",
    "Norte2 = MAIG[1].data[P2_sample:P2_sample + win]\n",
    "Este2  = MAIG[2].data[P2_sample:P2_sample + win]\n",
    "print('L: ',len(Norte2))\n",
    "f1=plt.figure(figsize=(7,5))\n",
    "plt.plot(Este2, Norte2)\n",
    "plt.gca().set_aspect('equal', adjustable='box')\n",
    "plt.grid()\n",
    "plt.xlabel('Este')\n",
    "plt.ylabel('Norte')\n",
    "plt.title('Mazatlán, Sinaloa')\n",
    "print(P1)"
   ]
  },
  {
   "cell_type": "code",
   "execution_count": null,
   "metadata": {},
   "outputs": [],
   "source": [
    "# Escribe tu código aquí. ~1 línea\n",
    "win_t     = None\n",
    "P3_sample = int(P3*df)\n",
    "win       = int(win_t*df)\n",
    "Norte3 = LPIG[1].data[P3_sample:P3_sample + win]\n",
    "Este3  = LPIG[2].data[P3_sample:P3_sample + win]\n",
    "print('L: ',len(Norte3))\n",
    "f1=plt.figure(figsize=(7,5))\n",
    "plt.plot(Este3, Norte3)\n",
    "plt.gca().set_aspect('equal', adjustable='box')\n",
    "plt.grid()\n",
    "plt.xlabel('Este')\n",
    "plt.ylabel('Norte')\n",
    "plt.title('La Paz, BCS')\n",
    "print(P1)"
   ]
  },
  {
   "cell_type": "markdown",
   "metadata": {},
   "source": [
    "# Distancia al sismo \n",
    "La distancia al sismos se puede calcular a través de la diferencia entre el tiempo de llegada de la **onda S**, *$t_s$* y la **onda P**, *$t_p$*. Por lo tanto si conocemos la velocidad promedio de la onda, y el tiempo de arribo podemos conocer la distancia, $d$, de la siguiente forma. Sea,\n",
    "$$\n",
    "\\begin{eqnarray}\n",
    "t_p&=&\\frac{d}{V_p},\\\\\n",
    "t_s&=&\\frac{d}{V_s}.\n",
    "\\end{eqnarray}\n",
    "$$<br>\n",
    "Por lo tanto,\n",
    "$$\n",
    "\\begin{equation}\n",
    "t_s - t_p = d\\left(\\frac{1}{V_p}-\\frac{1}{V_s}\\right).\n",
    "\\end{equation}\n",
    "$$<br>\n",
    "Obten una ecuación para calcular las distancias del sismo a las estaciones, **d1**, **d2** y **d3** en **kilómetros**. La velocidad promedio de la **onda P** en la corteza es $V_p=5.2km/s$. Asume que la corteza es un medio de Poisson para calcular la velocidad de la **onda S**. "
   ]
  },
  {
   "cell_type": "code",
   "execution_count": null,
   "metadata": {},
   "outputs": [],
   "source": [
    "# Estima distancias\n",
    "vp = 5.2\n",
    "d1 = None\n",
    "d2 = None\n",
    "d3 = None\n",
    "print('Distancia a la estación Chamela  (CJIG):', '{:.2f}'.format(d1), ' km.')\n",
    "print('Distancia a la estación Mazatlán (MAIG):', '{:.2f}'.format(d2), ' km.')\n",
    "print('Distancia a la estación La Paz   (LPIG):', '{:.2f}'.format(d3), ' km.')"
   ]
  },
  {
   "cell_type": "markdown",
   "metadata": {},
   "source": [
    "# Cálculo de la dirección de propagación\n",
    "Como vistes en secciones anteriores, los diagramas de movimiento de partícula indican de la dirección de la cual proviene una onda sísmica En esta sección vamos a aplicar el método de descomposición de valores singulares para determinar esta dirección a través del cálculo de los eigenvalores y los eigenvectores. La matriz que contiene la dirección de la partícula se puedes descomponer de la siguiente forma,<br><br>\n",
    "$$\n",
    "\\begin{equation}\n",
    "A=U\\Sigma V^*.\n",
    "\\end{equation}\n",
    "$$<br>\n",
    "Donde $A$ es una matriz de $m$ reglones (número de puntos) y dos columnas que contienen el movimiento de la partícula en la dirección $x$ (Este) y $y$ (Norte). La matrices $U$ y $V^*$ corresponden a rotaciones del sistema de coordenadas y la matriz $\\Sigma$ es una matriz diagonal que contiene los eigenvalores de la función. Para determinar la dirección de propagación vamos a obtene la fase del eigenector que correstonde al eigenvalor de mayor magnitud. "
   ]
  },
  {
   "cell_type": "code",
   "execution_count": null,
   "metadata": {},
   "outputs": [],
   "source": [
    "# Estimate dirección\n",
    "dir_CJIG = np.transpose(np.vstack(((Este1,Norte1))))\n",
    "_, _, v1 = np.linalg.svd(dir_CJIG)\n",
    "dir_vec1 = v1[0,:]\n",
    "\n",
    "# Estimate dirección\n",
    "print('Shape: ', dir_CJIG.shape)\n",
    "dir_MAIG = np.transpose(np.vstack(((Este2,Norte2))))\n",
    "_, _, v2 = np.linalg.svd(dir_MAIG)\n",
    "dir_vec2 = v2[0,:]\n",
    "\n",
    "# Estimate dirección\n",
    "dir_LPIG = np.transpose(np.vstack(((Este3,Norte3))))\n",
    "_, _, v3 = np.linalg.svd(dir_LPIG)\n",
    "dir_vec3 = v3[0,:]\n",
    "bearing_CJIG = np.degrees(np.arctan2(dir_vec1[1], dir_vec1[0]))\n",
    "bearing_MAIG = np.degrees(np.arctan2(dir_vec2[1], dir_vec2[0]))\n",
    "bearing_LPIG = np.degrees(np.arctan2(dir_vec3[1], dir_vec3[0]))\n",
    "print(\"direction = \", bearing_CJIG, \"deg de la estación CJIG.\")\n",
    "print(\"direction = \", bearing_MAIG, \"deg de la estación MAIG.\")\n",
    "print(\"direction = \", bearing_LPIG, \"deg de la estación LPIG.\")"
   ]
  },
  {
   "cell_type": "code",
   "execution_count": null,
   "metadata": {},
   "outputs": [],
   "source": [
    "m2 = folium.Map(location=[22.5, -108.],zoom_start=6.0,)\n",
    "folium.Marker(location=[evla, evlo],radius=10,icon=folium.Icon(color=\"black\"), popup='sismo').add_to(m2)\n",
    "folium.Marker(location=[CJIG_lat, CJIG_lon],radius=10,icon=folium.Icon(color=\"green\"), popup='CJIG').add_to(m2)\n",
    "folium.Marker(location=[LPIG_lat, LPIG_lon],radius=10,icon=folium.Icon(color=\"red\"),   popup='LPIG').add_to(m2)\n",
    "folium.Marker(location=[MAIG_lat, MAIG_lon],radius=10,icon=folium.Icon(color=\"blue\"),  popup='MAIG').add_to(m2)\n",
    "\n",
    "# Escribe tu código aqui ~3 líneas\n",
    "disamb_1 = None\n",
    "disamb_2 = None\n",
    "disamb_3 = None\n",
    "\n",
    "CJIG_sta = geopy.Point(CJIG_lat, CJIG_lon)\n",
    "MAIG_sta = geopy.Point(MAIG_lat, MAIG_lon)\n",
    "LPIG_sta = geopy.Point(LPIG_lat, LPIG_lon)\n",
    "\n",
    "CJIG_d   = geopy.distance.great_circle(kilometers = d1)\n",
    "MAIG_d   = geopy.distance.great_circle(kilometers = d2)\n",
    "LPIG_d   = geopy.distance.great_circle(kilometers = d3)\n",
    "\n",
    "\n",
    "CJIG_epi = CJIG_d.destination(point=CJIG_sta, bearing=bearing_CJIG + disamb_1)\n",
    "MAIG_epi = MAIG_d.destination(point=MAIG_sta, bearing=bearing_MAIG + disamb_2)\n",
    "LPIG_epi = LPIG_d.destination(point=LPIG_sta, bearing=bearing_LPIG + disamb_3)\n",
    "\n",
    "folium.CircleMarker(location=[CJIG_epi.latitude, CJIG_epi.longitude], radius=10, color='green ').add_to(m2)\n",
    "folium.CircleMarker(location=[MAIG_epi.latitude, MAIG_epi.longitude], radius=10, color='blue').add_to(m2)\n",
    "folium.CircleMarker(location=[LPIG_epi.latitude, LPIG_epi.longitude], radius=10, color='red').add_to(m2) # \n",
    "m2"
   ]
  },
  {
   "cell_type": "markdown",
   "metadata": {
    "collapsed": true
   },
   "source": [
    "# Cálculo de errores\n",
    "Estima el error obtenido por este método con respecto a la localización reportada por el SSN. <font color='red'>Para que tu práctica se considere como correcta el error promedio debe de ser menor a los 100km.</font>"
   ]
  },
  {
   "cell_type": "code",
   "execution_count": null,
   "metadata": {},
   "outputs": [],
   "source": [
    "error_CJIG=geopy.distance.great_circle([CJIG_epi.latitude, CJIG_epi.longitude],[evla, evlo])\n",
    "error_MAIG=geopy.distance.great_circle([MAIG_epi.latitude, MAIG_epi.longitude],[evla, evlo])\n",
    "error_LPIG=geopy.distance.great_circle([LPIG_epi.latitude, LPIG_epi.longitude],[evla, evlo])\n",
    "print(\"Error \", error_CJIG, \" a la estación CJIG\")\n",
    "print(\"Error \", error_LPIG, \" a la estación LPIG\")\n",
    "print(\"Error \", error_MAIG, \" a la estación MAIG\")\n",
    "print(\"Error promedio: \", (error_CJIG + error_MAIG + error_LPIG)/3)"
   ]
  },
  {
   "cell_type": "markdown",
   "metadata": {},
   "source": [
    "# Notas\n",
    "En esta práctica hemos visto un método que aunque actualmente es poco utilizado debido a que en general es difícil obtener polarización lineal. Sin embargo, fue utilizado por muchos años para dar las primeras estimaciones de un sismo antes de la digitalización de los sistemas de monitoreo. Para el cálculo, de la distancia hemos partido del hecho de la trayectoria de propagación es recta. Esta suposición es válida cuando tenemos estaciones relativamente cerca del sismo (unos cuantos ~1-30km). Como veremos más adelante las ondas sísmicas siguen una trayectoria parabólica y es importante considerar la curvatura de la Tierra. "
   ]
  },
  {
   "cell_type": "code",
   "execution_count": null,
   "metadata": {},
   "outputs": [],
   "source": []
  }
 ],
 "metadata": {
  "kernelspec": {
   "display_name": "Python 3",
   "language": "python",
   "name": "python3"
  },
  "language_info": {
   "codemirror_mode": {
    "name": "ipython",
    "version": 3
   },
   "file_extension": ".py",
   "mimetype": "text/x-python",
   "name": "python",
   "nbconvert_exporter": "python",
   "pygments_lexer": "ipython3",
   "version": "3.8.5"
  }
 },
 "nbformat": 4,
 "nbformat_minor": 2
}
