{
 "cells": [
  {
   "cell_type": "markdown",
   "metadata": {},
   "source": [
    "![cover](./header2.png)\n",
    "# Misión\n",
    "En esta práctica vamos a estimar el campo magnético de la Tierra a partir de Modelo Internacional de Georeferencia (IGRF). Para esto vaamos a utilizar un Software que hace el cálculo en base a los coeficientes de los esféricos armónicos. \n",
    "# Parte 1 - Software \n",
    "Ingresa a la siguiente página https://www.ngdc.noaa.gov/IAGA/vmod/igrf.html y descarga el software necesario para realizar esta práctica, el cual está disponible para Windows, Linux y Python. En la versión de Python, he encontrado algunos errores en el código, por lo que te sugiero descarges la versión corregida ya sea del repositorio de Github o de la plataforma Moodle. Las instrucciones a continuación están basadas en la versión corregida de Python. Pero puedes utilizar cualquiera de las otras versiones si lo prefieres. \n",
    "\n",
    "# Parte 2 - Cálculo del campo magnético en un la Tierra en un lugar y tiempo dado\n",
    "Una vez que hyas descargado el programa al correrlo podrás elegir entras las siguientes opciones:  \n",
    "```\n",
    "Enter name of output file\n",
    "or press \"Return\" for output to screen\n",
    "Enter filename: test1.txt\n",
    "test1.txt\n",
    "Choose an option:\n",
    "1 - values at one location and date\n",
    "2 - values at yearly intervals at one location\n",
    "3 - values on a latitude/longitude grid at one date\n",
    "->1\n",
    "```\n",
    "En esta sección vamos a utilizar la primera ```1 - values at one location and date``` para estimar cuales son las componentes del campo magnético para nuestra fecha y lugar de nacimiento. A continuación el programa te preguntará cuales es el formato que vas a utilizar para la latitud y longitud. Puedes elegir cualquiiera de los dos pero tendrás que ser consistente en los próximos pasos. En el siguiente paso te va a pedir si quieres realizar el cálculo asumiendo que la Tierra es esférica o si prefieres utilizar el elipsoide de referencia. En este caso vamos a utilizar el módelo **WGS-84**. <br><br>\n",
    "En el caso de la altura haz un estimado de la elevación sobre el nivel del mar del lugar donde nacistes. Para el cálcula de la fecha de nacimiento deberás de calcularla en formato decimal. Por ejemplo, si naciste el **5 de mayo  del 2000**, tendrás que hacer contar el número de días a partir de enero y dividirlo entre el número total del días del año. En este caso, Fecha Decimal = 2000 + (31(enero) + 29(febrero) + 31(marzo) + 30(abril) + 5 )/366 = 2000.344. Abre el archivo de salida, copia y pega tus resultados en la siguiente celda. <br><br>\n",
    "**NOTA: Si naciste en el hemisferio oeste, la longitud debe de ser negativa.**"
   ]
  },
  {
   "cell_type": "markdown",
   "metadata": {},
   "source": [
    "Añade tu salida en esta celda. Simplemente la puedes copiar y pegar.\n",
    "\n",
    "\n"
   ]
  },
  {
   "cell_type": "markdown",
   "metadata": {},
   "source": [
    "## Ejemplo\n",
    "```\n",
    "Geomagnetic field values at: 19.706° / -101.195°, at altitude 1.9, for 2000.344\n",
    "Declination (D): 7.24°\n",
    "Inclination (I): 47.28°\n",
    "Horizontal intensity (H): 28466.1nT\n",
    "Total intensity (F)     : 41959.6nT\n",
    "North component (X)     : 28239.4nT\n",
    "East component (Y)      :  3585.1nT\n",
    "Vertical component (Z)  : 30826.8nT\n",
    "Declination SV (D) : 5.13arcmin/yr\n",
    "Inclination SV (I) : 0.52arcmin/yr\n",
    "Horizontal SV (H)  :  -54.5nT/yr\n",
    "Total SV (F)       :  -87.3nT/yr\n",
    "North SV (X)       :  -48.7nT/yr\n",
    "East SV (Y)        :  -49.1nT/yr\n",
    "Vertical SV (Z)    :  -68.5nT/yr\n",
    "```"
   ]
  },
  {
   "cell_type": "markdown",
   "metadata": {},
   "source": [
    "## Parte 3 - Gráfico de Bauler\n",
    "A continuación vamos a calcular el campo magnético en función del tiempo para tu lugar de nacimiento desde **1900-2025**. Para esto deberás de selecciionar la segunda opción ```2 - values at yearly intervals at one location```. Repite un procedimiento similar al de la **parte 2** con la latitud y longitud del lugar donde naciste, para este intervalo de tiempo. Obtendrás un archivo de texto, puedes abrirlo con comando ```numpy.genfromtxt```, ya sea con que indiques el número de líneas de encabezado o que la elimines manualmente.\n",
    "Además, genera un segundo archivo con incrementos de 10 años par indicar con puntos los cambios de década. "
   ]
  },
  {
   "cell_type": "code",
   "execution_count": null,
   "metadata": {},
   "outputs": [],
   "source": [
    "import numpy as np\n",
    "from matplotlib import pyplot as plt\n",
    "import matplotlib\n",
    "matplotlib.rc('xtick', labelsize=18) \n",
    "matplotlib.rc('ytick', labelsize=18) \n",
    "\n",
    "A = np.genfromtxt(None)  # Usa el archivo con todos tus datos\n",
    "M = np.genfromtxt(None') # Usa el archivo con tus datos cada 10 años\n",
    "fig, ax = plt.subplots(1,1, figsize=(12,8))\n",
    "ax.plot(A[:,1], A[:,2],'k', linewidth=2)\n",
    "ax.plot(M[:,1], M[:,2],'ro')\n",
    "decadas = M[:,0]\n",
    "for k,decada in enumerate(decadas):\n",
    "    ax.text(M[k,1],M[k,2],str(round(decada)), fontsize=16)\n",
    "ax.set_xlabel('Declinación', fontsize=20)\n",
    "ax.set_ylabel('Inclinación', fontsize=20)\n",
    "ax.set_title(None, fontsize=16)\n",
    "ax.grid()"
   ]
  },
  {
   "cell_type": "markdown",
   "metadata": {},
   "source": [
    "## Posible solución\n",
    "![bauler](./bauler.png)\n",
    "# Parte 4 - Mapa de campo total para México\n",
    "Por último, vamos a seleccionar la tercera opción ```3 - values on a latitude/longitude grid at one date```. Y vamos a elaborar los siguientes mapas para el primero de enero del 2021. \n",
    "* Campo Magnético Total.\n",
    "* Declinación. \n",
    "* Inclinación.\n",
    "\n",
    "Para esto selecciona los siguientes límites para la latitud y longitud.\n",
    "$$12N\\leq latitud \\leq 32N$$\n",
    "$$120W\\leq longitud \\leq 85W$$\n",
    "\n",
    "En este caso vamos a considerar una elevación de 1km. Una vez generado tus datos carga tu archivo usando ```numpy.genfromtxt``` ya sea removiendo la líneas de encabezado o indicando la variable ```skip_header```. Identifica las columnas que necesitas para graficar la tres variable mencionadas. Genera un número suficientemente alto de datos, para tener una buena definición pero evita generar <font color='red'>archivos excesivamente grandes</font>. El archivo que obtienes de utilizar el código **IGRF** es de tipo **xyz**, las líneas de comando que ves a continuación convierten tus archivos de formato tipo **xyz** a uno de tiipo **grid**. No es necesario que modifiques el código en esta sección, pero revisa el procedimiento que tendrías que seguir. \n"
   ]
  },
  {
   "cell_type": "code",
   "execution_count": null,
   "metadata": {},
   "outputs": [],
   "source": [
    "import cartopy\n",
    "from scipy.interpolate import griddata\n",
    "\n",
    "# Edita las siguientes líneas\n",
    "data = np.genfromtxt(None, skip_header=None)\n",
    "N = None # Elige un número de puntos que vas a usar para la interpolación que sea consistente con tus datos\n",
    "X = None\n",
    "Y = None\n",
    "D = None\n",
    "I = None\n",
    "F = None\n",
    "\n",
    "\n",
    "xi = np.linspace(X.min(), X.max(), N)\n",
    "yi = np.linspace(Y.min(), Y.max(), N)\n",
    "\n",
    "xg, yg = np.meshgrid(xi, yi)\n",
    "di     = griddata((X,Y), D, (xg, yg), method='cubic')\n",
    "ii     = griddata((X,Y), I, (xg, yg), method='cubic')\n",
    "fi     = griddata((X,Y), F, (xg, yg), method='cubic')\n",
    "\n",
    "\n",
    "fig, ax = plt.subplots(1,1, figsize=(12,8))\n",
    "ax = plt.axes(projection=cartopy.crs.PlateCarree())\n",
    "ax.add_feature(cartopy.feature.COASTLINE)\n",
    "ax.add_feature(cartopy.feature.BORDERS, linestyle=':')\n",
    "ax.add_feature(cartopy.feature.LAND)\n",
    "ax.add_feature(cartopy.feature.OCEAN)\n",
    "contours = ax.contour(xi,yi,fi, levels=20, colors='black')\n",
    "ax.clabel(contours, inline=True, fontsize=10)\n",
    "ax.set_xticks([-120, -110, -100, -90])\n",
    "ax.set_yticks([15, 20, 25, 30, 35])\n",
    "ax.set_extent([-120, -85, 12, 32])\n",
    "ax.set_title('Campo Total [nT]');\n",
    "\n",
    "fig, ax = plt.subplots(1,1, figsize=(12,8))\n",
    "ax = plt.axes(projection=cartopy.crs.PlateCarree())\n",
    "ax.add_feature(cartopy.feature.COASTLINE)\n",
    "ax.add_feature(cartopy.feature.BORDERS, linestyle=':')\n",
    "ax.add_feature(cartopy.feature.LAND)\n",
    "ax.add_feature(cartopy.feature.OCEAN)\n",
    "contours = ax.contour(xi,yi,di, levels=20, colors='black')\n",
    "ax.clabel(contours, inline=True, fontsize=10)\n",
    "ax.set_xticks([-120, -110, -100, -90])\n",
    "ax.set_yticks([15, 20, 25, 30, 35])\n",
    "ax.set_extent([-120, -85, 12, 32])\n",
    "ax.set_title('Declinación [grados]');\n",
    "\n",
    "fig, ax = plt.subplots(1,1, figsize=(12,8))\n",
    "ax = plt.axes(projection=cartopy.crs.PlateCarree())\n",
    "ax.add_feature(cartopy.feature.COASTLINE)\n",
    "ax.add_feature(cartopy.feature.BORDERS, linestyle=':')\n",
    "ax.add_feature(cartopy.feature.LAND)\n",
    "ax.add_feature(cartopy.feature.OCEAN)\n",
    "contours = ax.contour(xi,yi,ii, levels=20, colors='black')\n",
    "ax.clabel(contours, inline=True, fontsize=10)\n",
    "ax.set_xticks([-120, -110, -100, -90])\n",
    "ax.set_yticks([15, 20, 25, 30, 35])\n",
    "ax.set_extent([-120, -85, 12, 32])\n",
    "ax.set_title('Inclinación [grados]');\n",
    "\n"
   ]
  },
  {
   "cell_type": "markdown",
   "metadata": {},
   "source": [
    "# Ejemplo\n",
    "![mapa_F](./mapa_F.png)\n",
    "![mapa_D](./mapa_D.png)\n",
    "![mapa_I](./mapa_I.png)\n",
    "\n"
   ]
  },
  {
   "cell_type": "code",
   "execution_count": null,
   "metadata": {},
   "outputs": [],
   "source": []
  }
 ],
 "metadata": {
  "kernelspec": {
   "display_name": "Python 3",
   "language": "python",
   "name": "python3"
  },
  "language_info": {
   "codemirror_mode": {
    "name": "ipython",
    "version": 3
   },
   "file_extension": ".py",
   "mimetype": "text/x-python",
   "name": "python",
   "nbconvert_exporter": "python",
   "pygments_lexer": "ipython3",
   "version": "3.8.5"
  }
 },
 "nbformat": 4,
 "nbformat_minor": 4
}
