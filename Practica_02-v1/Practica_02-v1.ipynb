{
 "cells": [
  {
   "cell_type": "markdown",
   "metadata": {},
   "source": [
    "![title](../img/cover.png)"
   ]
  },
  {
   "cell_type": "markdown",
   "metadata": {},
   "source": [
    "# Objetivo\n",
    "En esta práctica calcularas el esfuerzo en una falla a partir de conocer el estado de esfuerzo, así como calcular las componentes principales. "
   ]
  },
  {
   "cell_type": "markdown",
   "metadata": {},
   "source": [
    "# Parte 1 - Vector de tracción\n",
    "Antes de empezar cualquier programa es necesario importar las librerias que va a necesitar. En este caso haremos uso de dos librerias muy comunes que son **`numpy`** y **`matplotlib`**. Cada una de estas librerias tienen las siguientes funcionalidades:\n",
    "- **`numpy`** - Numpy es una libreria de python que permite la manipulación de arreglos y matrices.  \n",
    "\n",
    "**NOTA IMPORTANTE** Utiliza las funciones que se proponen para realizar los cálculo. Con excepción de los valores de las matriz a utilizarm **NO** introduzcas valores directamente de lo contrario se considerará el ejercició como **incorrecto** (**no hard-coding**).\n",
    "\n"
   ]
  },
  {
   "cell_type": "code",
   "execution_count": null,
   "metadata": {
    "collapsed": true
   },
   "outputs": [],
   "source": [
    "import numpy as np"
   ]
  },
  {
   "cell_type": "markdown",
   "metadata": {},
   "source": [
    "Como primer ejercicio resolveremos el problema que se ilustra en la Figura 2.2 del libro Shearer, P. Introduction to Seismology (página 20). En este ejercicio se desea calcular la fuerza normal y perpendicular a una falla con rumbo NW 45˚. <br>\n",
    "\n",
    "Para ello vamos a definir primero el **vector normal** a la falla utilizando un arreglo de numpy.\n",
    "\n",
    "**Nota** Las funciones np.sin() y np.cos() reciben como argumento ángulos en **radianes**. Si necesitas el nnúmero $\\pi$ puedes utilizar la constante interna **np.pi**. Utilizar senos y cosenos permite obtener vectores unitarios de forma sencilla."
   ]
  },
  {
   "cell_type": "code",
   "execution_count": null,
   "metadata": {
    "collapsed": true
   },
   "outputs": [],
   "source": [
    "# Escribe tu código ~1 línea\n",
    "n = np.array([[None],[None]])"
   ]
  },
  {
   "cell_type": "markdown",
   "metadata": {},
   "source": [
    "Verifica que tu resultado coincida con el libro,\n",
    "$$\n",
    "\\begin{equation}\n",
    "\\hat{\\mathbf{n}}= \\begin{bmatrix}1/\\sqrt{2}\\\\1/\\sqrt{2}\\end{bmatrix}=\\begin{bmatrix}0.7071\\\\0.7071\\end{bmatrix}.\n",
    "\\end{equation}\n",
    "$$\n",
    "De manera análoga declara la **matriz de esfuerzo** que es dato del problema. Por simplicidad vamos a asumir que nuestras unidades son **MPa** por lo que no es necesario multiplicar por $1\\times 10^6\\,Pa$.<br>\n",
    "$$\n",
    "\\begin{equation}\n",
    "\\mathbf{\\tau} = \\begin{bmatrix}-40 & -10\\\\ -10 & -60\\end{bmatrix}[MPa].\n",
    "\\end{equation}\n",
    "$$"
   ]
  },
  {
   "cell_type": "code",
   "execution_count": null,
   "metadata": {
    "collapsed": true
   },
   "outputs": [],
   "source": [
    "# Escribe tu código ~1 línea\n",
    "tau = None\n",
    "print(tau)"
   ]
  },
  {
   "cell_type": "markdown",
   "metadata": {},
   "source": [
    "Calcula el vector tracción utilizando la fórmula que se proporciona en el libro de texto.<br><br>\n",
    "$$\n",
    "\\begin{equation}\n",
    "\\mathbf{t}(\\mathbf{\\hat{x}})=\\mathbf{\\tau}\\mathbf{\\hat{n}}\n",
    "\\end{equation}\n",
    "$$<br>\n",
    "Ten en cuenta que es una multiplicación de matrices. Utiliza la función <a href=\"https://numpy.org/doc/stable/reference/generated/numpy.dot.html\">**np.dot**</a>"
   ]
  },
  {
   "cell_type": "code",
   "execution_count": null,
   "metadata": {
    "collapsed": true
   },
   "outputs": [],
   "source": [
    "# Escribe tu código ~1 línea\n",
    "t=None\n",
    "print(t)"
   ]
  },
  {
   "cell_type": "markdown",
   "metadata": {},
   "source": [
    "Verifica que tu resultado coincida con el libro, \n",
    "$$\n",
    "\\mathbf{t}(\\mathbf{\\hat{x}})\\approx\\begin{bmatrix}-35.4\\\\ -49.4\\end{bmatrix} \\mathbf{MPa.}\n",
    "$$\n",
    "<br>\n",
    "Con este resultado has obtenido el vector de tracción, si deseas conocer el esfuerzo que se ejerce ya sea en la dirección perpendicular a la falla o en la dirección paralela a la falla, es necesario proyectar el vector de tracción en cada una de estas direcciones utilizando el **producto punto**. Puedes reutilizar el vector $\\mathbf{\\hat{n}}$, pero es necesario calcular el vector, $\\mathbf{\\hat{f}}$, hazlo de forma similar a $\\mathbf{\\hat{n}}$, **no hard-coding** utiliza **np.sin()** y **np.cos()**."
   ]
  },
  {
   "cell_type": "code",
   "execution_count": null,
   "metadata": {
    "collapsed": true
   },
   "outputs": [],
   "source": [
    "# Escribe tu código ~1 línea\n",
    "f=None\n",
    "print(f)"
   ]
  },
  {
   "cell_type": "markdown",
   "metadata": {},
   "source": [
    "Calcula las componentes $\\mathbf{t_N}$ y $\\mathbf{t_S}$ utiliza la función **np.dot**. (**Nota:** La letra N significa normal y la letra S cizalla (_shear_)).<br><br>\n",
    "**PRECAUCIÓN** La función **np.dot** puede calcular tanto el producto punto como la multiplicación de matrices. En computación a esta propiedad se le llama _polimorfismo_ de una función, cuando una misma función puede calcular dos operaciones distintas basado en los valores de entrada. Para evitar confusión, es más conveniente utilizar la función **np.matmul** para la multplicación de matrices aunque ambas opciones son válidas. "
   ]
  },
  {
   "cell_type": "code",
   "execution_count": null,
   "metadata": {
    "collapsed": true
   },
   "outputs": [],
   "source": [
    "# Escribe tu código ~2 líneas\n",
    "t_N = None\n",
    "t_S = None\n",
    "print('t_N= ', t_N)\n",
    "print('t_N= ', t_S)"
   ]
  },
  {
   "cell_type": "markdown",
   "metadata": {},
   "source": [
    "Verifica tu resutlado con el libro ($\\mathbf{t_N}=60\\,MPa$ y $\\mathbf{t_S}=10\\,MPa.$)."
   ]
  },
  {
   "cell_type": "markdown",
   "metadata": {},
   "source": [
    "# Parte 2 - Esfuerzos principales\n",
    "Como hemos vistos en clases anteriores los esfuerzos principales surgen del hecho de rotar nuestro sistema de referencia hacia una posición donde los esfuerzos de cizalla son cero. Es decir, la matrix de esfuerzos contiene valores diferentes de cero únicamente sobre la diagonal principal. <br>\n",
    "Entonces, la matriz de esfuerzo principales se puede escribir como,<br><br>\n",
    "$$\n",
    "\\begin{equation}\n",
    "\\mathbf{\\tau^R}=\\mathbf{N^T}\\tau\\mathbf{N}=\\begin{bmatrix}\\tau_1 & 0 & 0 \\\\ 0 & \\tau_2 & 0 \\\\ 0 & 0 & \\tau_3\\end{bmatrix}.\n",
    "\\end{equation}\n",
    "$$<br>\n",
    "Donde, $\\mathbf{\\tau}$ es la matriz de esfuerzos originales y $\\mathbf{N}$ es la matriz de **eigenvalores**. $\\tau_1$, $\\tau_2$ y $\\tau_3$ son los esfuerzos principales. Para obtener la matrix $\\mathbf{N}$ es necesario conocer calcular los eigenvalores y eigenvectores a través de resolver la siguiente ecuación,<br><br>\n",
    "$$\n",
    "\\begin{equation}\n",
    "(\\mathbf{\\tau}-\\lambda\\mathbf{I})\\mathbf{\\hat{n}}=0.\n",
    "\\end{equation}\n",
    "$$<br>\n",
    "Donde, $\\mathbf{I}$ es la matriz identidad y $\\lambda$ es un escalar. Este problema tiene solución no trivial cuando el determinante se hace cero,<br><br>\n",
    "$$\n",
    "\\begin{equation}\n",
    "det[\\mathbf{\\tau}-\\lambda \\mathbf{I}] = 0.\n",
    "\\end{equation}\n",
    "$$<br>\n",
    "El resultado del determinante es un polinomio de tercer orden, con raices $\\lambda_1$, $\\lambda_2$ y $\\lambda_3$ llamados eigenvalores. Cada uno de estos de estos eigenvalores, está asociado con su correspondiente eigenvector, el cual se indica a través de cada una de las columnas de la matriz $\\mathbf{N}$.<br><br>\n",
    "$$\n",
    "\\begin{equation}\n",
    "\\mathbf{N} = \\begin{bmatrix}n^{(1)}_x & n^{(2)}_x & n^{(3)}_x \\\\ n^{(1)}_y & n^{(2)}_y & n^{(3)}_y \\\\ n^{(1)}_z & n^{(2)}_z & n^{(3)}_z \\\\\\end{bmatrix}\n",
    "\\end{equation}\n",
    "$$\n",
    "## Ejemplo\n",
    "Calcule los ejes principales y los esfuerzos principales de la siguiente matriz de esfuerzos.<br><br>\n",
    "$$\n",
    "\\begin{equation}\n",
    "\\mathbf{\\tau} = \\begin{bmatrix}-40 & -10\\\\ -10 & -60\\end{bmatrix}[MPa].\n",
    "\\end{equation}\n",
    "$$<br>\n",
    "Esta matriz ya la habiamos definido anteriormente por lo que no es necesario definirla nuevamente. El cálculo de los eigenvalores y eigenvectores es muy sencillo de realizar con la función <a href=\"https://numpy.org/doc/stable/reference/generated/numpy.linalg.eig.html\">numpy.linalg.eig</a>. Consulta la documentación y calcula los eigenvalores y los eigenvectores."
   ]
  },
  {
   "cell_type": "code",
   "execution_count": null,
   "metadata": {
    "collapsed": true
   },
   "outputs": [],
   "source": [
    "# Escribe tu código ~1 línea\n",
    "l, N = None\n",
    "print('l: ', l)\n",
    "print('N:', N)"
   ]
  },
  {
   "cell_type": "markdown",
   "metadata": {},
   "source": [
    "**Nota.** El resultado que obtendrás puede ser distinto al que aparece en el libro de texto. Sin embargo, cumple con la condición de ortogonalidad. "
   ]
  },
  {
   "cell_type": "code",
   "execution_count": null,
   "metadata": {
    "collapsed": true
   },
   "outputs": [],
   "source": [
    "print('Ortogonalidad: ',np.dot(N[:,0],N[:,1]))"
   ]
  },
  {
   "cell_type": "markdown",
   "metadata": {
    "collapsed": true
   },
   "source": [
    "# Parte 3 - Esfuerzos deviatorios\n",
    "Para calcular los esfuerzos deviatorios vamos a asumir las siguiente matriz de esfuerzos.<br><br>\n",
    "$$\n",
    "\\begin{equation}\n",
    "\\tau = \\begin{bmatrix}-30 & -40 & -50\\\\ -40 & -60 & -20\\\\ -50 & -20 & -10\\end{bmatrix} MPa\n",
    "\\end{equation}\n",
    "$$\n",
    "## Pasos\n",
    "1. Declara la matriz usando **np.array()**.\n",
    "2. Obtén la suma de los elementos dde la traza usando **np.trace()** y divide el resultado entre 3.\n",
    "3. Genera una matriz diagonal y restala a la matriz original.<br> \n",
    "**Nota.** Asume que tus unidades son **MPa**, no es necesario multiplicar por **1e6**."
   ]
  },
  {
   "cell_type": "code",
   "execution_count": null,
   "metadata": {
    "collapsed": true
   },
   "outputs": [],
   "source": [
    "# Escribe tu código ~3 línea\n",
    "tau   = None\n",
    "tau_m = None  # Esfuerzo promedio\n",
    "tau_d = None\n",
    "print('sigma = ',sigma)\n",
    "print('Esfuerzo promedio = ', M )\n",
    "print('Esfuerzo deviatorio',deviatorio)"
   ]
  },
  {
   "cell_type": "markdown",
   "metadata": {},
   "source": [
    "Verifica que tu resultados: <br><br>\n",
    "Esfuerzo promedio $\\tau_m=-40\\,[MPa]$\n",
    "$$\n",
    "\\begin{equation}\n",
    "\\tau_D =\\begin{bmatrix}\n",
    "10.  & -40. & -50. \\\\\n",
    "-40. & -30. & -20. \\\\\n",
    "-50. & -20.  & -20.\n",
    "\\end{bmatrix}\n",
    "\\end{equation}\n",
    "$$"
   ]
  },
  {
   "cell_type": "markdown",
   "metadata": {},
   "source": [
    "# Evaluación\n",
    "Para este ejercicio es necesario escribir correctamente 10 líneas de código, cada línea tiene un valor de **1 punto** para un total de **10 puntos**"
   ]
  },
  {
   "cell_type": "code",
   "execution_count": null,
   "metadata": {
    "collapsed": true
   },
   "outputs": [],
   "source": []
  }
 ],
 "metadata": {
  "kernelspec": {
   "display_name": "Python 3",
   "language": "python",
   "name": "python3"
  },
  "language_info": {
   "codemirror_mode": {
    "name": "ipython",
    "version": 3
   },
   "file_extension": ".py",
   "mimetype": "text/x-python",
   "name": "python",
   "nbconvert_exporter": "python",
   "pygments_lexer": "ipython3",
   "version": "3.6.7"
  }
 },
 "nbformat": 4,
 "nbformat_minor": 2
}
