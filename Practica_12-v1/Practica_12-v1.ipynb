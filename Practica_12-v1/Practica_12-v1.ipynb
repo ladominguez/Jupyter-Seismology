{
 "cells": [
  {
   "cell_type": "markdown",
   "metadata": {},
   "source": [
    "![title](./cover.png)\n",
    "# Misión \n",
    "En está práctica tendrás que corroborar la **Ley de Gutenberg-Richter** para los sismos registrados en el catálogo del Servicio Sismológico Nacional, así como calcular la magnitud de completitud (**Mc**). Además deberás de calcular la **Ley de Omori** para modelar las réplicas del sismo de magnitud **M8.2** ocurrido en Tehuantepc, Oaxaca el 7 de septiembre del 2017.<br>\n",
    " <font color='red'>**Nota: No se permite hardcoding en esta práctica.**</font>\n",
    "# Introducción\n",
    "La **Ley de Gutenberg-Richter** establece la relación que existe entre sismos grandes y susmos pequeño. Es una ley empírica, es decir, es una ley basada en las observaciones y no puede ser derivada a partir de principios físicos fundamentales. Puede ser expresada de la siguiente manera, <br><br>\n",
    "$$\n",
    "\\begin{equation}\n",
    "log_{10}N = a - bM.\n",
    "\\end{equation}\n",
    "$$<br>\n",
    "Donde $N$ es el número de eventos con magnitudes mayor o igual a $M$, y $a$ es típicamente el número total de sismos. Para poder calcularla necesitas seguir los siguientes pasos,\n",
    "1. Descarga el catálogo de sismos de la página del **Servicio Sismológico Nacional** <a href=\"www.ssn.unam.mx\">www.ssn.unam.mx</a> para todos los sísmos reportados desde 1900 hasta la fecha.  \n",
    "2. Estimar la magnitud de completitud\n",
    "3. Para los sismos con magnitud mayor a la magnitud de completitud, encuentra los parámetros $a$ y $b$ que mejor ajustan a tus observaciones, utilizando el método de **máxima similitud Aki (1965)**. \n",
    "\n",
    "## Calculo de la magnitud de completitud.\n",
    "La **magnitud de completitud** se define como el punto de infleaxión donde los datos observados no siguen la **Ley de Gutenberg-Richter**. Esto es resultado de la capacidad que tiene una red sísmica para detectar sísmos pequeños (densidad de estaciones). Existen varias formas de calcularlo, una de las más simples consiste en obtener el histograma de los sismos en intervalos de 0.1. El punto máximo del histogramama corresponde a la magnitud de completitud. "
   ]
  },
  {
   "cell_type": "code",
   "execution_count": 2,
   "metadata": {},
   "outputs": [],
   "source": [
    "import pandas as pd\n",
    "import numpy  as np\n",
    "import matplotlib.pyplot as plt\n",
    "import pandas as pd\n",
    "import datetime\n",
    "from scipy.optimize import curve_fit\n",
    "import matplotlib.pyplot as plt\n",
    "plt.rcParams.update({'font.size': 22})"
   ]
  },
  {
   "cell_type": "code",
   "execution_count": 7,
   "metadata": {},
   "outputs": [],
   "source": [
    "# Escribe tu código aquí\n",
    "\n",
    "\n",
    "\n",
    "\n",
    "\n",
    "\n",
    "# Modifica las siguientnes líneas para calcular tu resultado\n",
    "#fig, ax = plt.subplots(figsize=(8, 8))\n",
    "#ax.plot(None,None,'r*', markersize=12, label=\"Magnitud de completitud\")\n",
    "#ax.legend(fontsize=14)\n",
    "#ax.set_xlabel('Magnitude ', fontsize=18)\n",
    "#ax.set_ylabel('No. events', fontsize=18)\n",
    "\n"
   ]
  },
  {
   "cell_type": "markdown",
   "metadata": {},
   "source": [
    "## Cálculo del valor b\n",
    "El **valor b** debe de ser estimado a través del método de máxima verosimilidad (**Maximum Likelihood Method**), este método fue propuesto por Aki(1965) en un artículo clásico de la sismología. La siguiente función hace el cálculo del **valor b** y su incertidumbre. Utiliza esta fución para calcular el **valor b**.\n",
    "\n",
    "***Aki, K. (1965): Maximum likelihood estimate of b in the formula log (N) = a − bM and its confidence limits, Bull. Earthq. Res. Inst. Tokyo Univ., 43, 237-239.***"
   ]
  },
  {
   "cell_type": "code",
   "execution_count": 8,
   "metadata": {},
   "outputs": [],
   "source": [
    "def valor_b(magnitudes, intervalo, Mc):\n",
    "    magnitudes = magnitudes[magnitudes >= Mc]\n",
    "    mag_prom   = np.mean(magnitudes)\n",
    "    n          = len(magnitudes)\n",
    "    \n",
    "    valor_b    = (1./(mag_prom + intervalo*0.5 - Mc))*np.log10(np.exp(1))\n",
    "    \n",
    "    b_var      = np.var(magnitudes - mag_prom)/len(magnitudes)\n",
    "    bStdDev    = 2.30*np.sqrt(b_var)*valor_b**2\n",
    "    \n",
    "    valor_a    = np.log10(len(mag)) + valor_b*Mc\n",
    "    \n",
    "    return valor_b, valor_a, bStdDev "
   ]
  },
  {
   "cell_type": "code",
   "execution_count": 9,
   "metadata": {},
   "outputs": [],
   "source": [
    "# Escribe tú código aquí\n",
    "\n",
    "\n",
    "\n",
    "\n",
    "\n",
    "\n",
    "\n",
    "# Modifica las siguientes lineas para graficar tus resultados\n",
    "#fig, ax    = plt.subplots(figsize=(8, 8))\n",
    "#plt.plot(None, None,'^')\n",
    "#plt.plot(mNone, None,'r^')\n",
    "#plt.plot(None, None, 'k', label = 'n(M) = ' + '%3.2f'%a + ' - %3.2f M'%b, linewidth=3)\n",
    "#plt.xlabel('Magnitud', fontsize=28)\n",
    "#plt.ylabel('log(No. de sismos)', fontsize=28)\n",
    "#plt.legend()\n",
    "#plt.grid()\n",
    "#print('Valor b: ', '%3.2f'%b, ' (+/-) ', '%4.3f'%bstd)"
   ]
  },
  {
   "cell_type": "markdown",
   "metadata": {},
   "source": [
    "### Valor esperado\n",
    "```\n",
    "Valor b:  1.05  (+/-)  0.005\n",
    "```\n",
    "![Gutenberg-Richter](./gutenberg.png)"
   ]
  },
  {
   "cell_type": "markdown",
   "metadata": {},
   "source": [
    "# Ley de Omori\n",
    "La **Ley de Omori** es otra ley empírica que permite modelar las réplicas que ocurren después de un sismo, de tal manera que se observa, que después de ocurrir un gran sismos la tasa de sismicidad aumenta hasta volver a sus valor ***\"normal\"*** de sísmicidad de fondo. Esta ley se puede escribri de la siguiente manera,<br>\n",
    "\n",
    "$$\n",
    "\\begin{equation}\n",
    "n(t)=\\frac{K}{t+c}\n",
    "\\end{equation}\n",
    "$$\n",
    "<br>\n",
    "\n",
    "Donde $n(t)$ es el número de réplicas por unidad de tiempo, $t$ es el tiempo medido a partir del sismos principal (**mainshock**), **K** y **c** son constantes. Estos son los pasos que hay que realizar para estimar la **Ley de Omori**.\n",
    "\n",
    "\n",
    "1. Descarga el catálogo de sismos de la página del **Servicio Sismológico Nacional** <a href=\"www.ssn.unam.mx\">www.ssn.unam.mx</a> para todos los sismos en el Golfo de Tehuantepec (establece una área de búsqueda alrededor de la ruptura principal). **Nota.** El sismo ocurrió cerca de la media noche del **7 de septiembre de 2017**, si haces la búsqueda utilizando el tiempo UTC, el sismo ocurre el **8 de septiembde del 2017**. \n",
    "2. Calcula un histograma en incremetos de 1 día. \n",
    "3. Define una función para calcular la Ley de Omori. **Nota.** Para facilitar el ajuste de los datos posteriormente, está función deberá de regresar **$log_{10}(n(t))$** en lugar del valor absoluto.\n",
    "4. Notarás que existe otro sísmo que dispará de nuevo la sismicidad de fondo. Acota tus datos para valores menores a este tiempo de forma que sea más fácil acotar una curva.\n",
    "5. Utiliza la función ``scipy.optimize.curve_fit`` para ajustar una curva a tus datos y calcular **$K$** y **$c$**. \n",
    "6. Grafíca tus resultados."
   ]
  },
  {
   "cell_type": "code",
   "execution_count": 70,
   "metadata": {},
   "outputs": [
    {
     "name": "stdout",
     "output_type": "stream",
     "text": [
      "tmax:  105857332.0  log10(tmax):  8.02472094395074\n"
     ]
    }
   ],
   "source": [
    "# Escribe tu código aquí\n",
    "\n",
    "\n"
   ]
  },
  {
   "cell_type": "code",
   "execution_count": 11,
   "metadata": {},
   "outputs": [],
   "source": [
    "def log_histogram(_):\n",
    "    # Escribe tu código aquí\n",
    "    None\n",
    "    return None, None\n",
    "\n",
    "None\n",
    "\n",
    "\n",
    "\n",
    "\n",
    "# Modifica las siguientes lineas para graficar tus resultados\n",
    "#plt.subplots(figsize=(8, 8))\n",
    "#plt.loglog(cbin, n_log, 'k*')\n",
    "#plt.loglog(t_aux, np.power(10, n_aux),'r',linewidth=3, label=r\"$K\\approx7,051, c\\approx 28.56$\")\n",
    "#plt.legend()\n",
    "#plt.xlabel('Días a partir del sismo principal (Mainshock)')\n",
    "#plt.ylabel('Eventos por día')\n",
    "#plt.title('Sismo de Tehuantepec, M8.2, 2017')\n",
    "#plt.grid()"
   ]
  },
  {
   "cell_type": "markdown",
   "metadata": {},
   "source": [
    "![Ley de Omori](./omori.png)\n"
   ]
  }
 ],
 "metadata": {
  "kernelspec": {
   "display_name": "Python 3",
   "language": "python",
   "name": "python3"
  },
  "language_info": {
   "codemirror_mode": {
    "name": "ipython",
    "version": 3
   },
   "file_extension": ".py",
   "mimetype": "text/x-python",
   "name": "python",
   "nbconvert_exporter": "python",
   "pygments_lexer": "ipython3",
   "version": "3.8.5"
  }
 },
 "nbformat": 4,
 "nbformat_minor": 4
}
