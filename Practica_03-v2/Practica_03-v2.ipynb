{
 "cells": [
  {
   "cell_type": "markdown",
   "metadata": {},
   "source": [
    "![title](./cover.png)"
   ]
  },
  {
   "cell_type": "markdown",
   "metadata": {},
   "source": [
    "# Misión\n",
    "1. Calcular la derivada de una función utilizando el operador derivada hacia adelante, hacia atrás y mediante la derivada de dos puntos. \n",
    "2. Resolver la ecuación de onda mediante una suma de funciones harmónicas."
   ]
  },
  {
   "cell_type": "markdown",
   "metadata": {},
   "source": [
    "# Parte 1\n",
    "En esta primera parte vamos a calcular la derivada de una función de forma numérica utilizando las técnicas vistas en clase. Para ello vamos a utilzar funciones conocidas y vamos a comparar la derivada numérica con la solución analítica. Recordemos las definiciones vistas en clase.<br>\n",
    "## Derivada hacia adelante\n",
    "$$\n",
    "\\begin{equation}\n",
    "\\frac{df(t)}{dt}=\\frac{f(t+dt)-f(t)}{dt}\n",
    "\\end{equation}\n",
    "$$\n",
    "## Derivada hacia atrás\n",
    "$$\n",
    "\\begin{equation}\n",
    "\\frac{df(x)}{dx}=\\frac{f(x)-f(x-dx)}{dx}\n",
    "\\end{equation}\n",
    "$$\n",
    "## Derivada de dos puntos\n",
    "$$\n",
    "\\begin{equation}\n",
    "\\frac{df(x)}{dx}=\\frac{f(x+dx)-f(x-dx)}{2dx}\n",
    "\\end{equation}\n",
    "$$\n",
    "## Segunda derivada\n",
    "$$\n",
    "\\begin{equation}\n",
    "\\frac{df^2(t)}{dt^2}=\\frac{f(x+dx)-2f(x)+f(x-dx)}{dx^2}\n",
    "\\end{equation}\n",
    "$$\n",
    "# Pasos\n",
    "1. Declare la función **$f(x)=sin(2\\pi x/\\lambda)$**, donde **$\\lambda$** es la longitud de onda. En este caso vamos a suponer que la longitud onda es de **10 metros** y que el dominio espacial en el que vamos a resolver las derivadas es en el intervalo de **0 a 80 metros**. \n",
    "2. Defina 3 funciones para el calculo de la **derivada hacia adelante, hacia atrás y de dos puntos**. \n",
    "\n",
    "**NOTA**. Cuando se calculan las derivadas hacia adelante y hacia atrás el vector resultante tendrá una dimensión de $N-1$, es decir, un punto menos que $f(x)$. En el caso de la derivada hacia adelante se pierde el último elemento mientras que en la derivada hacia atrás se pierde el primer elemento. En el caso de la derivada de dos puntos y la derivada hacia adelante y hacia atrás se pierden los puntos de los extremos. Asegurate de considerar esto cuando grafíques tus funciones. \n",
    "\n",
    "**Tip.** En Python el primer elemento de un arreglo corresponde a la posición [0], y el último a la posición [-1]. El penúltimo elemento corresponde a la posición [-2] y así sucesivamente. "
   ]
  },
  {
   "cell_type": "code",
   "execution_count": null,
   "metadata": {},
   "outputs": [],
   "source": [
    "import numpy as np\n",
    "import matplotlib.pyplot as plt\n",
    "from IPython.display import HTML\n",
    "from matplotlib import animation\n",
    "%matplotlib inline"
   ]
  },
  {
   "cell_type": "code",
   "execution_count": null,
   "metadata": {},
   "outputs": [],
   "source": [
    "l      = None   # Longitud de onda\n",
    "sample = None   # Número de segmentos por longitud de onda\n",
    "Xmax   = None   # Longitud Máxima\n",
    "N      = (Xmax/l)*sample + 1\n",
    "dx     = l/sample\n",
    "x      = np.linspace(0,Xmax, int(N))\n",
    "f      = np.sin(2*np.pi*x/l)\n"
   ]
  },
  {
   "cell_type": "code",
   "execution_count": null,
   "metadata": {},
   "outputs": [],
   "source": [
    "def derivada_hacia_adelante(f, dx):\n",
    "    # Escribe tu código aqui ~1 línea\n",
    "    df_forward = None\n",
    "    return df_forward\n",
    "def derivada_hacia_atras(f, dx):\n",
    "    # Escribe tu código aqui ~1 línea\n",
    "    df_backward = None\n",
    "    return df_backward \n",
    "def derivada_2_puntos(f, dx):\n",
    "    # Escribe tu código aqui ~1 línea\n",
    "    df_2points = None\n",
    "    return df_2points\n",
    "def segunda_derivada(f,dx):\n",
    "    # Escribe tu código aqui ~1 línea\n",
    "    d2f_dx2 = None\n",
    "    return d2f_dx2"
   ]
  },
  {
   "cell_type": "code",
   "execution_count": null,
   "metadata": {
    "scrolled": false
   },
   "outputs": [],
   "source": [
    "# Función sobre muestreada para representar función analítica\n",
    "x_anl  = np.linspace(0,Xmax,301)\n",
    "f_anl  = np.sin(2*np.pi*np.linspace(0,Xmax,301)/l)\n",
    "x_for  = None\n",
    "x_back = None\n",
    "x_2p   = None\n",
    "x_2der = None\n",
    "\n",
    "d_anl   = 2*np.pi*np.cos(2*np.pi*x_anl/l)/l\n",
    "dd_anl  = -4*np.pi**2*np.sin(2*np.pi*x_anl/l)/l**2\n",
    "df_for  = derivada_hacia_adelante(f, dx)\n",
    "df_back = derivada_hacia_atras(f,dx)\n",
    "df_2p   = derivada_2_puntos(f, dx)\n",
    "ddf     = segunda_derivada(f, dx)\n",
    "\n",
    "\n",
    "# Plotting \n",
    "plt.figure(figsize=(12,8))\n",
    "plt.plot(x_anl,f_anl,'r',label=f'$f(x)=sin(2*\\pi x/\\lambda)$',lw=4)\n",
    "plt.plot(x,f,'o-', label='Función Muestreada', )\n",
    "plt.legend(fontsize=14)\n",
    "plt.xlabel('x[m]')\n",
    "plt.ylabel('f(x)')\n",
    "plt.grid()\n",
    "plt.show()\n",
    "\n",
    "plt.figure(figsize=(12,8))\n",
    "plt.plot(x_anl,d_anl,'r',label=f'$df/dx= 2\\pi cos(2*\\pi x/\\lambda)$',lw=4)\n",
    "plt.plot(x_for,df_for,'+-b',   label='Derivada hacia adelante')\n",
    "plt.plot(x_back,df_back,'x-m', label='Derivada hacia atrás')\n",
    "plt.plot(x_2p, df_2p,'h-g',    label='Derivada de 2 puntos')\n",
    "plt.grid()\n",
    "plt.legend(fontsize=14)\n",
    "plt.show()\n",
    "\n",
    "\n",
    "plt.figure(figsize=(12,8))\n",
    "plt.plot(x_anl,dd_anl,'r',label=f'$d^2f/dx^2= -4\\pi^2 sin(2*\\pi x/\\lambda^2)$',lw=4)\n",
    "plt.plot(x_2der, ddf,'o-b',   label='Segunda derivada' )\n",
    "plt.grid()\n",
    "plt.legend(fontsize=14)\n",
    "plt.show()\n"
   ]
  },
  {
   "cell_type": "markdown",
   "metadata": {},
   "source": [
    "### Solución\n",
    "![title](./sol1.png)\n",
    "![title](./sol2.png)\n",
    "![title](./sol3.png)\n",
    "# Segunda parte\n",
    "En esta sección vamos a resolver la ecuación de onda en 1D utilizando la suma de modos normales a una cuerda. Los detalles del procedimiento aparecen en las *paginas 36-37*, del libro *Wyssesion, S. Introduction to Seismology*. La solución a la ecuación de onda, <br><br>\n",
    "$$\n",
    "\\frac{\\partial^2 u(x,t)}{\\partial x^2} = \\frac{1}{v^2}\\frac{\\partial^2 u(x,t)}{\\partial t^2},\n",
    "$$<br>\n",
    "se puede escribir como una suma ponderada de sus modos normales de la forma,<br><br>\n",
    "$$\n",
    "u(x,t)=\\sum^\\infty_{n=0}sin(n\\pi x_s/L)F(\\omega_n)sin(n\\pi x/L)cos(\\omega_nt).\n",
    "$$<br>\n",
    "Donde, $L$ es la longitud de la cuerda, $x_s$ es la localización de la fuente, $\\omega_n$ es la frecuencia de resonancia del modo $n$. La función $F(\\omega_n)$ es un factor de peso que describe como diferentes frecuencias contribuyen a la historia temporal de la fuente, esta función se puede escribir como,<br><br>\n",
    "$$\n",
    "F(\\omega_n) = exp(-(\\omega_n \\tau)^2/4)\n",
    "$$<br>\n",
    "$\\tau$ es la duración del pulso de la fuente. \n",
    "# Pasos\n",
    "1. Inicializa tus parámetros: Número de modos a sumar (40), velocidad del medio (3m/s), posición de la fuente $x_s=8\\,m$, discretización del medio ($dx=0.05m$), intervalo de tiempo ($dt=0.05\\, s$), tiempo ($t=1.5\\,s$) y duración del pulso($\\tau=0.5$).\n",
    "2. Define las funciones $A_n$, $F(\\omega_n)$ y $u(x,t)$\n",
    "\n"
   ]
  },
  {
   "cell_type": "code",
   "execution_count": null,
   "metadata": {},
   "outputs": [],
   "source": [
    "N   = None   # Número de modos normales a sumar\n",
    "v   = None   # Velocidad en metros por segundo\n",
    "xs  = None   # Localización de la fuente\n",
    "L   = None   # Longitud de la cuerda\n",
    "dx  = None   # Incremento en x/\n",
    "dt  = None   # Incremento en tiempo\n",
    "t   = None   # Tiempo al que se va a calcular la onda\n",
    "tau = None   # Duración del curso\n",
    "\n",
    "Xmax = L\n",
    "x   = np.arange(0, Xmax + dx, dt)\n",
    "\n",
    "def An(n):\n",
    "    A = None\n",
    "    return A\n",
    "\n",
    "def F(wn):\n",
    "    F = None\n",
    "    return F\n",
    "def u(t,n):\n",
    "    un  = np.zeros(x.shape)\n",
    "    wn  = None\n",
    "    un  = None\n",
    "    return un\n",
    "\n",
    "plt.figure(figsize=(5,12))\n",
    "\n",
    "ut = np.zeros(x.shape)\n",
    "for n in range(1,N+1):\n",
    "    un   = u(t,n)\n",
    "    ut   = ut + un\n",
    "    umax = np.max(np.abs(un))\n",
    "    if umax <= 1e-5:\n",
    "        un = np.zeros(x.shape)\n",
    "    else:\n",
    "        un   = un/umax/2; # Normalizar gráfica\n",
    "    plt.plot(x,-un+n)\n",
    "\n",
    "ut = ut/np.max(np.abs(ut))/2;\n",
    "plt.plot(x,-6*ut + N + 4)\n",
    "plt.xlabel('Distancia')\n",
    "plt.ylabel('Número de Modo')\n",
    "plt.ylim([N+5, 0])\n",
    "plt.show()\n"
   ]
  },
  {
   "cell_type": "markdown",
   "metadata": {},
   "source": [
    "### Solución\n",
    "![title](./sol4.png)\n",
    "# Propagación en tiempo\n",
    "Por último ejecuta la siguiente celda para ver una simulación de la onda en 1D. "
   ]
  },
  {
   "cell_type": "code",
   "execution_count": null,
   "metadata": {},
   "outputs": [],
   "source": [
    "fig = plt.figure()\n",
    "ax = plt.axes(xlim=(0, Xmax), ylim=(-5, 5))\n",
    "ax.grid()\n",
    "plt.xlabel('Distance')\n",
    "plt.ylabel('Amplitude')\n",
    "line, = ax.plot([], [], lw=3)\n",
    "\n",
    "def init():\n",
    "    line.set_data([], [])\n",
    "    return line,\n",
    "def onda(ti):\n",
    "    t = ti*dt\n",
    "    ut = np.zeros(x.shape)\n",
    "    for n in range(1,N+1):\n",
    "        un   = u(t,n)\n",
    "        ut   = ut + u(t,n)\n",
    "        line.set_data(x, ut)\n",
    "    return line,\n",
    "\n",
    "# call the animator. blit=True means only re-draw the parts that have changed.\n",
    "anim = animation.FuncAnimation(fig, onda, init_func=init, \n",
    "                               frames=300, interval=5, blit=True)\n",
    "anim.save('onda.gif', writer='imagemagick')\n",
    "HTML(anim.to_html5_video('-allow_sw 1'))\n",
    "anim._repr_html_() is None\n",
    "\n"
   ]
  },
  {
   "cell_type": "markdown",
   "metadata": {},
   "source": [
    "En caso de produsca un error al ejecutar el comando HTML, corre la siguiente celda para cargar la git animado, onda.gif."
   ]
  },
  {
   "cell_type": "code",
   "execution_count": null,
   "metadata": {},
   "outputs": [],
   "source": [
    "![title](./onda.gif)"
   ]
  },
  {
   "cell_type": "markdown",
   "metadata": {},
   "source": [
    "Este es el resultado al que tienen que llegar. Favor de borrar esa celda junto con la imagen antes de enviar su tarea para reducir el tamaño de su archivo.\n",
    "![title](./onda.gif)\n"
   ]
  },
  {
   "cell_type": "code",
   "execution_count": null,
   "metadata": {},
   "outputs": [],
   "source": []
  }
 ],
 "metadata": {
  "kernelspec": {
   "display_name": "Python 3",
   "language": "python",
   "name": "python3"
  },
  "language_info": {
   "codemirror_mode": {
    "name": "ipython",
    "version": 3
   },
   "file_extension": ".py",
   "mimetype": "text/x-python",
   "name": "python",
   "nbconvert_exporter": "python",
   "pygments_lexer": "ipython3",
   "version": "3.8.5"
  }
 },
 "nbformat": 4,
 "nbformat_minor": 2
}
